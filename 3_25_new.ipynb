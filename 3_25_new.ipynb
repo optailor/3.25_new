{
  "nbformat": 4,
  "nbformat_minor": 0,
  "metadata": {
    "colab": {
      "provenance": [],
      "authorship_tag": "ABX9TyOhmW8G6y8gGL+lCJO1baCw",
      "include_colab_link": true
    },
    "kernelspec": {
      "name": "python3",
      "display_name": "Python 3"
    },
    "language_info": {
      "name": "python"
    }
  },
  "cells": [
    {
      "cell_type": "markdown",
      "metadata": {
        "id": "view-in-github",
        "colab_type": "text"
      },
      "source": [
        "<a href=\"https://colab.research.google.com/github/optailor/3.25_new/blob/main/3_25_new.ipynb\" target=\"_parent\"><img src=\"https://colab.research.google.com/assets/colab-badge.svg\" alt=\"Open In Colab\"/></a>"
      ]
    },
    {
      "cell_type": "code",
      "source": [
        "import requests"
      ],
      "metadata": {
        "id": "qENGEjLgd0-h"
      },
      "execution_count": 2,
      "outputs": []
    },
    {
      "cell_type": "code",
      "source": [
        "r = requests.get('https://api.thingspeak.com/update?api_key=AFJ5UURVSCBW2ADW&field1=0')\n",
        "print(r.text)"
      ],
      "metadata": {
        "colab": {
          "base_uri": "https://localhost:8080/"
        },
        "id": "4ptoxmRjd3Uh",
        "outputId": "7386b847-b45b-4fa3-ee07-97f072949eda"
      },
      "execution_count": 3,
      "outputs": [
        {
          "output_type": "stream",
          "name": "stdout",
          "text": [
            "4\n"
          ]
        }
      ]
    },
    {
      "cell_type": "code",
      "source": [
        "import time\n",
        "values=[1,2,6,73,48,72]\n",
        "for v in values:\n",
        "  r = requests.get(f'https://api.thingspeak.com/update?api_key=AFJ5UURVSCBW2ADW&field1={v}')\n",
        "  print(r.text)\n",
        "  time.sleep(20)\n",
        "print('done')"
      ],
      "metadata": {
        "colab": {
          "base_uri": "https://localhost:8080/"
        },
        "id": "VGXTvi4geAF5",
        "outputId": "eae1c753-bad1-4342-e1d8-d875283a0467"
      },
      "execution_count": 4,
      "outputs": [
        {
          "output_type": "stream",
          "name": "stdout",
          "text": [
            "0\n",
            "5\n",
            "6\n",
            "7\n",
            "8\n",
            "9\n",
            "done\n"
          ]
        }
      ]
    },
    {
      "cell_type": "code",
      "source": [
        "import time\n",
        "import random\n",
        "for i in range(6):\n",
        "  v = random. randint(0,100)\n",
        "  r = requests.get(f'https://api.thingspeak.com/update?api_key=AFJ5UURVSCBW2ADW&field1={v}')\n",
        "  print(r.text)\n",
        "  time.sleep(20)\n",
        "  print('done')"
      ],
      "metadata": {
        "colab": {
          "base_uri": "https://localhost:8080/"
        },
        "id": "weFcPwSzegtf",
        "outputId": "d38fb9bc-c476-4701-c0a8-2fe94fe6ba46"
      },
      "execution_count": 5,
      "outputs": [
        {
          "output_type": "stream",
          "name": "stdout",
          "text": [
            "10\n",
            "done\n",
            "11\n",
            "done\n",
            "12\n",
            "done\n",
            "13\n",
            "done\n",
            "14\n",
            "done\n",
            "15\n",
            "done\n"
          ]
        }
      ]
    }
  ]
}